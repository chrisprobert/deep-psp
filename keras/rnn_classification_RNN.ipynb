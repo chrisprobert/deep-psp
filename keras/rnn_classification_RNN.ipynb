{
 "cells": [
  {
   "cell_type": "markdown",
   "metadata": {},
   "source": [
    "#Using RNNs to Label Sequences\n",
    "\n",
    "We use RNN models to label secondary structure annotations. "
   ]
  },
  {
   "cell_type": "code",
   "execution_count": 1,
   "metadata": {
    "collapsed": false
   },
   "outputs": [
    {
     "name": "stderr",
     "output_type": "stream",
     "text": [
      "Vendor:  Continuum Analytics, Inc.\n",
      "Package: mkl\n",
      "Message: trial mode expires in 28 days\n"
     ]
    }
   ],
   "source": [
    "#\n",
    "# Imports for data loading and classification\n",
    "#\n",
    "\n",
    "import keras\n",
    "from keras.models import Sequential\n",
    "from keras.layers.core import Dense, Dropout, Activation\n",
    "from keras.layers.embeddings import Embedding\n",
    "from keras.layers.recurrent import LSTM, SimpleDeepRNN\n",
    "import keras.preprocessing.sequence\n",
    "from keras.optimizers import SGD\n",
    "\n",
    "from sklearn.cross_validation import train_test_split\n",
    "\n",
    "import matplotlib.pyplot as plt\n",
    "import numpy as np\n",
    "import pandas as ps\n",
    "import sys\n",
    "\n",
    "\n",
    "#\n",
    "# Setup matplotlib and ipython\n",
    "#\n",
    "%matplotlib inline\n",
    "\n",
    "# random seed\n",
    "R_SEED = 42"
   ]
  },
  {
   "cell_type": "markdown",
   "metadata": {},
   "source": [
    "##Load input data"
   ]
  },
  {
   "cell_type": "code",
   "execution_count": 23,
   "metadata": {
    "collapsed": false
   },
   "outputs": [],
   "source": [
    "#\n",
    "# The character mapping to encode amino acid sequences.\n",
    "# Non-AA chars should be mapped to X, or 0.\n",
    "#\n",
    "\n",
    "AAs = ['X','I','L','V','F','M','C','A','G','P','T','S','Y','W','Q','N','H','E','D','K','R']\n",
    "AAIndexes = {AAs[i] : i for i in range(len(AAs))}\n",
    "\n",
    "def encodeAA(x) :\n",
    "    # Encode an amino acid sequence\n",
    "    if x not in AAIndexes :\n",
    "        return 0\n",
    "    return AAIndexes[x]\n",
    "\n",
    "def seqToIdxs(seq) :\n",
    "    return map(encodeAA, seq.strip().upper())\n",
    "\n",
    "#\n",
    "#  Functions for loading sequences and background distributions\n",
    "#\n",
    "\n",
    "def loadSeqs(seqs_file, num_lines=sys.maxint, min_len=0) :\n",
    "    seqs = []\n",
    "    with open(seqs_file) as in_f :\n",
    "        for line in in_f :\n",
    "            if len(line.strip()) >= min_len :\n",
    "                seqs.append(seqToIdxs(line))\n",
    "            if len(seqs) >= num_lines : break\n",
    "    return seqs\n",
    "\n",
    "def loadFeatureSeqs(task_name, num_lines=sys.maxint, min_len=0) :\n",
    "    path = '/home/gene245/cprobert/seq_features/%s_seqs.txt' % task_name\n",
    "    return loadSeqs(path, num_lines, min_len)\n",
    "\n",
    "def loadFeatureBkgrdSeqs(task_name, num_lines=sys.maxint, min_len=0) :\n",
    "    path = '/home/gene245/cprobert/seq_features/%s_featurebackground_seqs.txt' % task_name\n",
    "    return loadSeqs(path, num_lines, min_len)\n",
    "\n",
    "def loadGlobalBkgrdSeqs(task_name, num_lines=sys.maxint, min_len=0) :\n",
    "    path = '/home/gene245/cprobert/seq_features/%s_globalbackground_seqs.txt' % task_name\n",
    "    return loadSeqs(path, num_lines, min_len)\n",
    "\n",
    "def createBinaryLabelVector(length, label) :\n",
    "    if label == 1 :\n",
    "        return np.ones(length, dtype=int)\n",
    "    return np.zeros(length, dtype=int)\n",
    "\n",
    "def createOneHotLabels(length, label) :\n",
    "    ar = [1,0] if label == 0 else [0,1]\n",
    "    ar = [ar for i in xrange(length)]\n",
    "    return np.array(ar)\n",
    "\n",
    "def loadShuffledData(task_name, num_exs=sys.maxint, bkgrd='global', max_len=100, min_len=10) :\n",
    "    \"\"\"\n",
    "    Loads a shuffled set of (seqs, labels) for the given task.\n",
    "    \"\"\"\n",
    "    assert(bkgrd in ['global', 'feature'])\n",
    "    seqs_pos = loadFeatureSeqs(task_name,num_exs/2)\n",
    "    if bkgrd == 'global' :\n",
    "        seqs_neg = loadGlobalBkgrdSeqs(task_name,num_exs/2)\n",
    "    else :\n",
    "        seqs_neg = loadFeatureBkgrdSeqs(task_name,num_exs/2)\n",
    "    seqs = keras.preprocessing.sequence.pad_sequences(seqs_pos + seqs_neg, maxlen=max_len)\n",
    "    labels = np.append(createOneHotLabels(len(seqs_pos), 1),\n",
    "                       createOneHotLabels(len(seqs_neg), 0), axis=0)\n",
    "    np.random.seed(R_SEED)\n",
    "    idxs = np.arange(labels.shape[0])\n",
    "    np.random.shuffle(idxs)\n",
    "    seqs, labels = seqs[idxs], labels[idxs]\n",
    "    return seqs, labels"
   ]
  },
  {
   "cell_type": "code",
   "execution_count": 3,
   "metadata": {
    "collapsed": false
   },
   "outputs": [
    {
     "name": "stdout",
     "output_type": "stream",
     "text": [
      "[5, 8, 8, 8, 18, 12, 13, 9, 1, 1]\n",
      "[15, 3, 15, 3, 11, 10, 17, 2, 18, 11]\n",
      "[2, 11, 1, 14, 12, 3, 9, 17, 10, 15]\n",
      "[1 1 1]\n",
      "[0 0 0]\n",
      "(array([[ 5,  8,  8,  8],\n",
      "       [19, 14, 15, 15],\n",
      "       [ 5,  8,  8,  8],\n",
      "       [ 2, 11,  1, 14]], dtype=int32), array([1, 0, 1, 0]))\n"
     ]
    }
   ],
   "source": [
    "# Try loading some data\n",
    "print(loadFeatureSeqs('transmembrane-region',1)[0][:10])\n",
    "print(loadFeatureBkgrdSeqs('transmembrane-region',1)[0][:10])\n",
    "print(loadGlobalBkgrdSeqs('transmembrane-region',1)[0][:10])\n",
    "print(createBinaryLabelVector(3,1))\n",
    "print(createBinaryLabelVector(3,0))\n",
    "print(loadShuffledData('transmembrane-region',num_exs=4,max_len=4))"
   ]
  },
  {
   "cell_type": "code",
   "execution_count": 4,
   "metadata": {
    "collapsed": false
   },
   "outputs": [],
   "source": [
    "# Try loading data and converting to keras types\n",
    "\n",
    "seqs = loadFeatureSeqs('transmembrane-region',1)\n",
    "proc_seqs = keras.preprocessing.sequence.pad_sequences(seqs, maxlen=10)"
   ]
  },
  {
   "cell_type": "markdown",
   "metadata": {},
   "source": [
    "##Declare the model"
   ]
  },
  {
   "cell_type": "code",
   "execution_count": 29,
   "metadata": {
    "collapsed": false
   },
   "outputs": [],
   "source": [
    "def getsimpleLSTM(input_dim=len(AAs)+1) :\n",
    "    model = keras.models.Sequential()\n",
    "    model.add(Embedding(input_dim, 256))\n",
    "    model.add(LSTM(256, 128, activation='sigmoid', inner_activation='hard_sigmoid'))\n",
    "    model.add(Dropout(0.5))\n",
    "    model.add(Dense(128, 2, init='uniform'))\n",
    "    model.add(Activation('sigmoid'))\n",
    "    return model\n",
    "\n",
    "def getsimpleRNN(input_dim=len(AAs)+1) :\n",
    "    model = keras.models.Sequential()\n",
    "    model.add(Embedding(input_dim, 256))\n",
    "    model.add(SimpleDeepRNN(256, 128, truncate_gradient=5))\n",
    "    #model.add(Dropout(0.5))\n",
    "    model.add(Dense(128, 2, init='uniform'))\n",
    "    model.add(Activation('softmax'))\n",
    "    return model\n"
   ]
  },
  {
   "cell_type": "markdown",
   "metadata": {},
   "source": [
    "##Try things out!"
   ]
  },
  {
   "cell_type": "code",
   "execution_count": 30,
   "metadata": {
    "collapsed": false
   },
   "outputs": [],
   "source": [
    "# Load the input data, and split the test data\n",
    "seqs, labels = loadShuffledData('transmembrane-region', num_exs=1000, bkgrd='global', max_len=100, min_len=10)\n",
    "\n",
    "X_train, X_test, y_train, y_test = train_test_split(seqs, labels, test_size=0.1, random_state=R_SEED)\n",
    "\n",
    "\n"
   ]
  },
  {
   "cell_type": "code",
   "execution_count": 31,
   "metadata": {
    "collapsed": false
   },
   "outputs": [
    {
     "name": "stdout",
     "output_type": "stream",
     "text": [
      "X_train [[ 5  7  7  5  2  8 20 18 17 18  9  3  8  7  2 11  8 20  3 11  2  7 11 10\n",
      "  11 16 20 11  2  3  8  7 11 19 11  4 20 18  3  4  5  9 14 10 18 17  3  4\n",
      "   8 20 11 17 20 20 17 17 18 18  5 17  2 20 13  7  7  1 17 20  2  9 10  4\n",
      "  18 20  2 20 19  8  5  2  9 14 10 11  7 15  8 19  1 17  2 17 18  1 18  2\n",
      "  10 20  2 17]\n",
      " [ 5  7 20  2  4 11  9 20  9  9  9 11 17 18  2  4 12 17 10 12 12 11  2 11\n",
      "  14 14 12  9  2  2  1  2  2  2  3  1  3  2  6  7  2  3  7  2  9  7  3  7\n",
      "  13  7 11  8 20 17  2 10 11 18  9 11  4  2 10 10  3  2  6  7  2  8  8  4\n",
      "  11  2  2  2  8  2  7 11 20 17 14 14  2 14 20 13 10 20  9  2 11  8  2  1\n",
      "  13  3  7  2]\n",
      " [ 7  3  9  1 10 11  4 14 16 11 11 10 10  8  7 19  6  2 16  3 17  9 17  3\n",
      "  11 18 20 19 17  3 16 10  7  2 11 11 14  4  6 16  8  8  9  9  3 11 16  9\n",
      "   1 19  2  4 15 18  3 18  1  2  2 18 12  2 10  3  2 17 12  2 10  1  3 17\n",
      "  12 10  9  7 18  2 10 10  8 10  2 15 12 20  7  2  4  8 17 15 16 14 15 19\n",
      "   2  2  8  1]\n",
      " [15  8 20 20 11  4  3 14  1  8 18 12  4 18 12  1  9 17  3 13  4 17 14 17\n",
      "  12  2 19 17 11  3 13 14 17 17  7 19 17 19  2 17  2 18 11 18  3  7 12 17\n",
      "  12 17 12 12  7 19  7  9  2  7 10 19 20  2  1  8 16  9  6  2  5 12  2 20\n",
      "  15 10 20 18  7  4 10  6 12  7  4 19  7  9 11  3  3  9 10 12 16  1  9  8\n",
      "  19 10  2  9]\n",
      " [ 5 19 16  1  2 15  2 12 17 15  1 15 11 10  7 20 15 15 11 18  6  9  7  3\n",
      "   1  2  9 17 17  1  4  4 10  3 11  1  3  8  3  2 17 15  2  5  3  2  2  7\n",
      "   3  7 19 15 19 11  2 14 11  9  5 12  4  4  1  6 11  2  7  1 11 18  5  2\n",
      "   8 11  2 12 19  1  2 17 15  3  2  1  5  4 19 15  5  8 12  2 17  9 20  8\n",
      "  11  4 17 11]]\n",
      "y_train [[0 1]\n",
      " [0 1]\n",
      " [1 0]\n",
      " [1 0]\n",
      " [0 1]]\n"
     ]
    }
   ],
   "source": [
    "print 'X_train', X_train[:5]\n",
    "print 'y_train', y_train[:5]"
   ]
  },
  {
   "cell_type": "code",
   "execution_count": 32,
   "metadata": {
    "collapsed": false
   },
   "outputs": [],
   "source": [
    "# Declare and compile the model\n",
    "model = getsimpleRNN()\n",
    "#sgd = SGD(lr=0.1, decay=1e-7, momentum=0.9, nesterov=True)\n",
    "model.compile(loss='categorical_crossentropy', optimizer='sgd')"
   ]
  },
  {
   "cell_type": "code",
   "execution_count": 33,
   "metadata": {
    "collapsed": false
   },
   "outputs": [
    {
     "name": "stdout",
     "output_type": "stream",
     "text": [
      "Train on 810 samples, validate on 90 samples\n",
      "Epoch 0\n",
      "810/810 [==============================] - 3s - loss: 0.6994 - acc.: 0.5000 - val. loss: 0.6928 - val. acc.: 0.5417\n",
      "Epoch 1\n",
      "810/810 [==============================] - 1s - loss: 0.7070 - acc.: 0.4802 - val. loss: 0.7158 - val. acc.: 0.4583\n",
      "Epoch 2\n",
      "810/810 [==============================] - 1s - loss: 0.7031 - acc.: 0.4852 - val. loss: 0.6993 - val. acc.: 0.4583\n",
      "Epoch 3\n",
      "810/810 [==============================] - 1s - loss: 0.7064 - acc.: 0.4481 - val. loss: 0.6898 - val. acc.: 0.5417\n",
      "Epoch 4\n",
      "810/810 [==============================] - 2s - loss: 0.7006 - acc.: 0.4926 - val. loss: 0.6999 - val. acc.: 0.4583\n",
      "Epoch 5\n",
      "810/810 [==============================] - 1s - loss: 0.7030 - acc.: 0.4926 - val. loss: 0.6898 - val. acc.: 0.5417\n",
      "Epoch 6\n",
      "810/810 [==============================] - 1s - loss: 0.6988 - acc.: 0.5222 - val. loss: 0.6986 - val. acc.: 0.4583\n",
      "Epoch 7\n",
      "810/810 [==============================] - 1s - loss: 0.7032 - acc.: 0.4753 - val. loss: 0.6897 - val. acc.: 0.5417\n",
      "Epoch 8\n",
      "810/810 [==============================] - 1s - loss: 0.7090 - acc.: 0.4630 - val. loss: 0.6914 - val. acc.: 0.5417\n",
      "Epoch 9\n",
      "810/810 [==============================] - 2s - loss: 0.7065 - acc.: 0.4580 - val. loss: 0.6898 - val. acc.: 0.5417\n",
      "Epoch 10\n",
      "810/810 [==============================] - 2s - loss: 0.7061 - acc.: 0.4901 - val. loss: 0.6922 - val. acc.: 0.5417\n",
      "Epoch 11\n",
      "810/810 [==============================] - 2s - loss: 0.7054 - acc.: 0.4778 - val. loss: 0.7340 - val. acc.: 0.4583\n",
      "Epoch 12\n",
      "810/810 [==============================] - 2s - loss: 0.7058 - acc.: 0.4852 - val. loss: 0.6913 - val. acc.: 0.5417\n",
      "Epoch 13\n",
      "810/810 [==============================] - 2s - loss: 0.6976 - acc.: 0.5173 - val. loss: 0.6935 - val. acc.: 0.5417\n",
      "Epoch 14\n",
      "810/810 [==============================] - 2s - loss: 0.6994 - acc.: 0.4975 - val. loss: 0.6896 - val. acc.: 0.5417\n",
      "Epoch 15\n",
      "810/810 [==============================] - 1s - loss: 0.7061 - acc.: 0.4877 - val. loss: 0.7392 - val. acc.: 0.5417\n",
      "Epoch 16\n",
      "810/810 [==============================] - 2s - loss: 0.7056 - acc.: 0.4827 - val. loss: 0.7261 - val. acc.: 0.4583\n",
      "Epoch 17\n",
      "810/810 [==============================] - 2s - loss: 0.7039 - acc.: 0.5025 - val. loss: 0.7017 - val. acc.: 0.5417\n",
      "Epoch 18\n",
      "810/810 [==============================] - 2s - loss: 0.7028 - acc.: 0.5000 - val. loss: 0.6902 - val. acc.: 0.5417\n",
      "Epoch 19\n",
      "810/810 [==============================] - 1s - loss: 0.7123 - acc.: 0.4605 - val. loss: 0.6897 - val. acc.: 0.5417\n",
      "Epoch 20\n",
      "810/810 [==============================] - 1s - loss: 0.7034 - acc.: 0.4963 - val. loss: 0.7414 - val. acc.: 0.4583\n",
      "Epoch 21\n",
      "810/810 [==============================] - 1s - loss: 0.7031 - acc.: 0.5198 - val. loss: 0.6896 - val. acc.: 0.5417\n",
      "Epoch 22\n",
      "810/810 [==============================] - 1s - loss: 0.6992 - acc.: 0.5074 - val. loss: 0.7055 - val. acc.: 0.4583\n",
      "Epoch 23\n",
      "810/810 [==============================] - 1s - loss: 0.7014 - acc.: 0.4790 - val. loss: 0.6941 - val. acc.: 0.4583\n",
      "Epoch 24\n",
      "810/810 [==============================] - 1s - loss: 0.6988 - acc.: 0.5062 - val. loss: 0.7015 - val. acc.: 0.4583\n",
      "Epoch 25\n",
      "810/810 [==============================] - 1s - loss: 0.6995 - acc.: 0.5025 - val. loss: 0.6981 - val. acc.: 0.4583\n",
      "Epoch 26\n",
      "810/810 [==============================] - 2s - loss: 0.6993 - acc.: 0.4938 - val. loss: 0.6902 - val. acc.: 0.5417\n",
      "Epoch 27\n",
      "810/810 [==============================] - 2s - loss: 0.6982 - acc.: 0.5247 - val. loss: 0.6896 - val. acc.: 0.5417\n",
      "Epoch 28\n",
      "810/810 [==============================] - 1s - loss: 0.7079 - acc.: 0.4642 - val. loss: 0.6993 - val. acc.: 0.5417\n",
      "Epoch 29\n",
      "810/810 [==============================] - 2s - loss: 0.6995 - acc.: 0.5074 - val. loss: 0.7068 - val. acc.: 0.5417\n"
     ]
    },
    {
     "data": {
      "text/plain": [
       "{'acc': [0.5,\n",
       "  0.4802469135802469,\n",
       "  0.48518518518518516,\n",
       "  0.44814814814814813,\n",
       "  0.49259259259259258,\n",
       "  0.49259259259259258,\n",
       "  0.52222222222222225,\n",
       "  0.47530864197530864,\n",
       "  0.46296296296296297,\n",
       "  0.4580246913580247,\n",
       "  0.49012345679012348,\n",
       "  0.4777777777777778,\n",
       "  0.48518518518518516,\n",
       "  0.51728395061728394,\n",
       "  0.49753086419753084,\n",
       "  0.48765432098765432,\n",
       "  0.48271604938271606,\n",
       "  0.5024691358024691,\n",
       "  0.5,\n",
       "  0.46049382716049381,\n",
       "  0.49629629629629629,\n",
       "  0.51975308641975304,\n",
       "  0.50740740740740742,\n",
       "  0.47901234567901235,\n",
       "  0.50617283950617287,\n",
       "  0.5024691358024691,\n",
       "  0.49382716049382713,\n",
       "  0.52469135802469136,\n",
       "  0.46419753086419752,\n",
       "  0.50740740740740742],\n",
       " 'epoch': [0,\n",
       "  1,\n",
       "  2,\n",
       "  3,\n",
       "  4,\n",
       "  5,\n",
       "  6,\n",
       "  7,\n",
       "  8,\n",
       "  9,\n",
       "  10,\n",
       "  11,\n",
       "  12,\n",
       "  13,\n",
       "  14,\n",
       "  15,\n",
       "  16,\n",
       "  17,\n",
       "  18,\n",
       "  19,\n",
       "  20,\n",
       "  21,\n",
       "  22,\n",
       "  23,\n",
       "  24,\n",
       "  25,\n",
       "  26,\n",
       "  27,\n",
       "  28,\n",
       "  29],\n",
       " 'loss': [0.69936694873952399,\n",
       "  0.70697405211627307,\n",
       "  0.70307847922573019,\n",
       "  0.70643853076397722,\n",
       "  0.70060782229851171,\n",
       "  0.70300915440728184,\n",
       "  0.69883459734512132,\n",
       "  0.70315794762017669,\n",
       "  0.70904560525283622,\n",
       "  0.70649707070432488,\n",
       "  0.70607617991710092,\n",
       "  0.70536124494113739,\n",
       "  0.70579129755910519,\n",
       "  0.69761708506161646,\n",
       "  0.69939148380258753,\n",
       "  0.70611249802558795,\n",
       "  0.70564690459701584,\n",
       "  0.70392224350561161,\n",
       "  0.70276391537548144,\n",
       "  0.71225240933930845,\n",
       "  0.703366663909195,\n",
       "  0.70311757161178046,\n",
       "  0.69920380957445427,\n",
       "  0.70136504305737424,\n",
       "  0.69878213511490983,\n",
       "  0.69949541770095569,\n",
       "  0.69929635960731251,\n",
       "  0.69819309057378576,\n",
       "  0.70794237449842012,\n",
       "  0.6994820345303191],\n",
       " 'val_acc': [0.5416666666666666,\n",
       "  0.4583333333333333,\n",
       "  0.4583333333333333,\n",
       "  0.5416666666666666,\n",
       "  0.4583333333333333,\n",
       "  0.5416666666666666,\n",
       "  0.4583333333333333,\n",
       "  0.5416666666666666,\n",
       "  0.5416666666666666,\n",
       "  0.5416666666666666,\n",
       "  0.5416666666666666,\n",
       "  0.4583333333333333,\n",
       "  0.5416666666666666,\n",
       "  0.5416666666666666,\n",
       "  0.5416666666666666,\n",
       "  0.5416666666666666,\n",
       "  0.4583333333333333,\n",
       "  0.5416666666666666,\n",
       "  0.5416666666666666,\n",
       "  0.5416666666666666,\n",
       "  0.4583333333333333,\n",
       "  0.5416666666666666,\n",
       "  0.4583333333333333,\n",
       "  0.4583333333333333,\n",
       "  0.4583333333333333,\n",
       "  0.4583333333333333,\n",
       "  0.5416666666666666,\n",
       "  0.5416666666666666,\n",
       "  0.5416666666666666,\n",
       "  0.5416666666666666],\n",
       " 'val_loss': [0.6928216053130489,\n",
       "  0.7157783729841811,\n",
       "  0.6993237256047626,\n",
       "  0.6898356193559656,\n",
       "  0.6998879282689071,\n",
       "  0.6897798694642985,\n",
       "  0.6985520108383364,\n",
       "  0.6896885778395895,\n",
       "  0.6913545282749562,\n",
       "  0.6898134459555477,\n",
       "  0.6921965596489281,\n",
       "  0.7340016094473055,\n",
       "  0.6913297884132902,\n",
       "  0.6935250217903599,\n",
       "  0.6896303975858209,\n",
       "  0.7391989678598067,\n",
       "  0.7260649167591247,\n",
       "  0.7017424888366484,\n",
       "  0.6902347601119495,\n",
       "  0.6897274375377432,\n",
       "  0.7414365580665384,\n",
       "  0.6896135121652982,\n",
       "  0.7054960736555076,\n",
       "  0.6940964531501738,\n",
       "  0.7014928192161306,\n",
       "  0.6981470805353949,\n",
       "  0.690204234422755,\n",
       "  0.6895946778306469,\n",
       "  0.699276961808561,\n",
       "  0.7068302156633542]}"
      ]
     },
     "execution_count": 33,
     "metadata": {},
     "output_type": "execute_result"
    }
   ],
   "source": [
    "# fit the model\n",
    "model.fit(X_train, y_train, nb_epoch=30, batch_size=16,\n",
    "          validation_split=0.1, shuffle=True, show_accuracy=True)"
   ]
  },
  {
   "cell_type": "code",
   "execution_count": 34,
   "metadata": {
    "collapsed": false
   },
   "outputs": [
    {
     "name": "stdout",
     "output_type": "stream",
     "text": [
      "[array(0.7185029689021053), array(0.52)]\n",
      "[array(0.7307127183985944), array(0.49777777777777776)]\n",
      "100/100 [==============================] - 0s\n",
      "[0 0 0 0 0 0 0 0 0 0 0 0 0 0 0 0 0 0 0 0 0 0 0 0 0 0 0 0 0 0 0 0 0 0 0 0 0\n",
      " 0 0 0 0 0 0 0 0 0 0 0 0 0 0 0 0 0 0 0 0 0 0 0 0 0 0 0 0 0 0 0 0 0 0 0 0 0\n",
      " 0 0 0 0 0 0 0 0 0 0 0 0 0 0 0 0 0 0 0 0 0 0 0 0 0 0]\n",
      "[[1 0]\n",
      " [0 1]\n",
      " [1 0]\n",
      " [0 1]\n",
      " [1 0]\n",
      " [1 0]\n",
      " [0 1]\n",
      " [0 1]\n",
      " [1 0]\n",
      " [0 1]\n",
      " [0 1]\n",
      " [1 0]\n",
      " [0 1]\n",
      " [1 0]\n",
      " [0 1]\n",
      " [1 0]\n",
      " [1 0]\n",
      " [0 1]\n",
      " [1 0]\n",
      " [0 1]]\n"
     ]
    },
    {
     "data": {
      "text/plain": [
       "(100, 100)"
      ]
     },
     "execution_count": 34,
     "metadata": {},
     "output_type": "execute_result"
    }
   ],
   "source": [
    "score = model.test(X_test, y_test, accuracy=True)\n",
    "print score\n",
    "\n",
    "score = model.test(X_train, y_train, accuracy=True)\n",
    "print score\n",
    "\n",
    "print model.predict_classes(X_test)\n",
    "print y_test[:20]\n",
    "X_test.shape"
   ]
  },
  {
   "cell_type": "code",
   "execution_count": 2,
   "metadata": {
    "collapsed": false
   },
   "outputs": [
    {
     "name": "stdout",
     "output_type": "stream",
     "text": [
      "Downloading data from http://www.cs.toronto.edu/~kriz/cifar-10-python.tar.gz\n",
      "170500096/170498071 [==============================] - 123s   \n",
      "Untaring file...\n",
      "(45000, 3, 32, 32)\n",
      "(45000, 1)\n"
     ]
    }
   ],
   "source": [
    "# Try Keras examples\n",
    "from keras.datasets import cifar10\n",
    "(X_train, y_train), (X_test, y_test) = cifar10.load_data(test_split=0.1, seed=113)\n",
    "print X_train.shape\n",
    "print y_train.shape"
   ]
  },
  {
   "cell_type": "code",
   "execution_count": 3,
   "metadata": {
    "collapsed": false
   },
   "outputs": [
    {
     "name": "stdout",
     "output_type": "stream",
     "text": [
      "Downloading data from https://s3.amazonaws.com/text-datasets/imdb.pkl\n",
      "33218560/33213513 [==============================] - 3s     \n"
     ]
    }
   ],
   "source": [
    "from keras.datasets import imdb\n",
    "(X_train, y_train), (X_test, y_test) = imdb.load_data(path=\"imdb.pkl\", nb_words=None, skip_top=0, maxlen=None, test_split=0.1, seed=113)\n",
    "\n",
    "\n",
    "\n"
   ]
  },
  {
   "cell_type": "code",
   "execution_count": 15,
   "metadata": {
    "collapsed": false
   },
   "outputs": [
    {
     "name": "stdout",
     "output_type": "stream",
     "text": [
      "[17, 10, 2, 257, 7, 25, 18, 69, 4195, 1513, 16, 121, 41, 2, 73, 3, 26, 14, 20, 33, 1758, 303, 4, 16, 75, 121, 14, 299, 15, 6, 153, 8, 112, 263, 18, 14, 20, 22, 96, 22, 16, 101, 219, 14, 21, 4, 12, 13, 9, 11, 12, 13, 9, 11, 61, 257, 7, 10886, 17974, 6, 15138, 13325, 4, 29, 18, 3, 42, 238, 3, 10, 45, 4874, 146, 272, 15138, 17974, 6, 62, 191, 7, 2, 17832, 4, 28, 2, 4570, 281, 206, 15, 2, 40383, 6009, 5, 8198, 98697, 8, 2, 19456, 3, 6, 257, 7, 66280, 8062, 4, 12, 13, 9, 11, 12, 13, 9, 11, 14, 56, 39, 7, 163, 10355, 5908, 3, 2, 407, 357, 1437, 53, 1201, 768, 2, 9732, 4, 12, 13, 9, 11, 12, 13, 9, 11, 19, 81, 196, 31, 275, 218, 40, 19, 3, 561, 1789, 695, 10872, 4, 34, 10, 48, 222, 4, 558, 23, 727, 3982, 4, 34, 20, 15, 41, 149, 1699, 116, 4, 12, 13, 9, 11, 12, 13, 9, 11, 121, 174, 25, 318, 4, 470, 3, 33, 19, 4562, 19, 2, 216, 4, 18, 20, 70, 62, 357, 4, 318, 3, 121, 6, 553, 526, 55, 1573, 16582, 49, 19, 2839, 7, 2, 7106, 4, 19]\n",
      "[0 1]\n",
      "1000 1000\n",
      "216\n",
      "198\n",
      "102063\n"
     ]
    }
   ],
   "source": [
    "print X_train[0]\n",
    "print np.unique(y_train)\n",
    "print len(X_train), len(y_train)\n",
    "X_train = X_train[:1000]\n",
    "y_train = y_train[:1000]\n",
    "print len(X_train[0])\n",
    "print len(X_train[1])\n",
    "print max(map(max, X_train))"
   ]
  },
  {
   "cell_type": "code",
   "execution_count": 17,
   "metadata": {
    "collapsed": false
   },
   "outputs": [
    {
     "name": "stdout",
     "output_type": "stream",
     "text": [
      "Epoch 0\n",
      "1000/1000 [==============================] - 48s - loss: 0.6948    \n",
      "Epoch 1\n",
      "1000/1000 [==============================] - 50s - loss: 0.6980    \n",
      "Epoch 2\n",
      "1000/1000 [==============================] - 51s - loss: 0.6942    \n",
      "Epoch 3\n",
      "1000/1000 [==============================] - 54s - loss: 0.6940    \n",
      "Epoch 4\n",
      "1000/1000 [==============================] - 54s - loss: 0.6946    \n",
      "Epoch 5\n",
      "1000/1000 [==============================] - 54s - loss: 0.6935    \n",
      "Epoch 6\n",
      "1000/1000 [==============================] - 51s - loss: 0.6955    \n",
      "Epoch 7\n",
      "1000/1000 [==============================] - 55s - loss: 0.6945    \n",
      "Epoch 8\n",
      "1000/1000 [==============================] - 53s - loss: 0.6942    \n",
      "Epoch 9\n",
      "1000/1000 [==============================] - 57s - loss: 0.6928    \n",
      " 672/2500 [=======>......................] - ETA: 8s - loss: 0.6974"
     ]
    },
    {
     "ename": "IndexError",
     "evalue": "index 102094 is out of bounds for size 102094\nApply node that caused the error: AdvancedSubtensor1(<TensorType(float64, matrix)>, Flatten{1}.0)\nInputs shapes: [(102094, 256), (3200,)]\nInputs strides: [(2048, 8), (4,)]\nInputs types: [TensorType(float64, matrix), TensorType(int32, vector)]\nUse the Theano flag 'exception_verbosity=high' for a debugprint of this apply node.",
     "output_type": "error",
     "traceback": [
      "\u001b[1;31m---------------------------------------------------------------------------\u001b[0m",
      "\u001b[1;31mIndexError\u001b[0m                                Traceback (most recent call last)",
      "\u001b[1;32m<ipython-input-17-c8d4eef306b1>\u001b[0m in \u001b[0;36m<module>\u001b[1;34m()\u001b[0m\n\u001b[0;32m     13\u001b[0m \u001b[1;33m\u001b[0m\u001b[0m\n\u001b[0;32m     14\u001b[0m \u001b[0mmodel\u001b[0m\u001b[1;33m.\u001b[0m\u001b[0mfit\u001b[0m\u001b[1;33m(\u001b[0m\u001b[0mX_train\u001b[0m\u001b[1;33m,\u001b[0m \u001b[0my_train\u001b[0m\u001b[1;33m,\u001b[0m \u001b[0mbatch_size\u001b[0m\u001b[1;33m=\u001b[0m\u001b[1;36m16\u001b[0m\u001b[1;33m,\u001b[0m \u001b[0mnb_epoch\u001b[0m\u001b[1;33m=\u001b[0m\u001b[1;36m10\u001b[0m\u001b[1;33m)\u001b[0m\u001b[1;33m\u001b[0m\u001b[0m\n\u001b[1;32m---> 15\u001b[1;33m \u001b[0mscore\u001b[0m \u001b[1;33m=\u001b[0m \u001b[0mmodel\u001b[0m\u001b[1;33m.\u001b[0m\u001b[0mevaluate\u001b[0m\u001b[1;33m(\u001b[0m\u001b[0mX_test\u001b[0m\u001b[1;33m,\u001b[0m \u001b[0my_test\u001b[0m\u001b[1;33m,\u001b[0m \u001b[0mbatch_size\u001b[0m\u001b[1;33m=\u001b[0m\u001b[1;36m16\u001b[0m\u001b[1;33m)\u001b[0m\u001b[1;33m\u001b[0m\u001b[0m\n\u001b[0m",
      "\u001b[1;32m/software/python_anaconda/2.2.0/lib/python2.7/site-packages/Keras-0.0.1-py2.7.egg/keras/models.pyc\u001b[0m in \u001b[0;36mevaluate\u001b[1;34m(self, X, y, batch_size, show_accuracy, verbose)\u001b[0m\n\u001b[0;32m    329\u001b[0m                 \u001b[0mlog_values\u001b[0m \u001b[1;33m=\u001b[0m \u001b[1;33m[\u001b[0m\u001b[1;33m(\u001b[0m\u001b[1;34m'loss'\u001b[0m\u001b[1;33m,\u001b[0m \u001b[0mloss\u001b[0m\u001b[1;33m)\u001b[0m\u001b[1;33m,\u001b[0m \u001b[1;33m(\u001b[0m\u001b[1;34m'acc.'\u001b[0m\u001b[1;33m,\u001b[0m \u001b[0macc\u001b[0m\u001b[1;33m)\u001b[0m\u001b[1;33m]\u001b[0m\u001b[1;33m\u001b[0m\u001b[0m\n\u001b[0;32m    330\u001b[0m             \u001b[1;32melse\u001b[0m\u001b[1;33m:\u001b[0m\u001b[1;33m\u001b[0m\u001b[0m\n\u001b[1;32m--> 331\u001b[1;33m                 \u001b[0mloss\u001b[0m \u001b[1;33m=\u001b[0m \u001b[0mself\u001b[0m\u001b[1;33m.\u001b[0m\u001b[0m_test\u001b[0m\u001b[1;33m(\u001b[0m\u001b[1;33m*\u001b[0m\u001b[0mins\u001b[0m\u001b[1;33m)\u001b[0m\u001b[1;33m\u001b[0m\u001b[0m\n\u001b[0m\u001b[0;32m    332\u001b[0m                 \u001b[0mlog_values\u001b[0m \u001b[1;33m=\u001b[0m \u001b[1;33m[\u001b[0m\u001b[1;33m(\u001b[0m\u001b[1;34m'loss'\u001b[0m\u001b[1;33m,\u001b[0m \u001b[0mloss\u001b[0m\u001b[1;33m)\u001b[0m\u001b[1;33m]\u001b[0m\u001b[1;33m\u001b[0m\u001b[0m\n\u001b[0;32m    333\u001b[0m             \u001b[0mtot_score\u001b[0m \u001b[1;33m+=\u001b[0m \u001b[0mloss\u001b[0m\u001b[1;33m\u001b[0m\u001b[0m\n",
      "\u001b[1;32m/software/python_anaconda/2.2.0/lib/python2.7/site-packages/theano/compile/function_module.pyc\u001b[0m in \u001b[0;36m__call__\u001b[1;34m(self, *args, **kwargs)\u001b[0m\n\u001b[0;32m    586\u001b[0m                     \u001b[1;31m# For the CVM\u001b[0m\u001b[1;33m\u001b[0m\u001b[1;33m\u001b[0m\u001b[0m\n\u001b[0;32m    587\u001b[0m                     gof.vm.raise_with_op(self.fn.nodes[self.fn.position_of_error],\n\u001b[1;32m--> 588\u001b[1;33m                                          self.fn.thunks[self.fn.position_of_error])\n\u001b[0m\u001b[0;32m    589\u001b[0m                 \u001b[1;32melse\u001b[0m\u001b[1;33m:\u001b[0m\u001b[1;33m\u001b[0m\u001b[0m\n\u001b[0;32m    590\u001b[0m                     \u001b[1;31m# For the c linker\u001b[0m\u001b[1;33m\u001b[0m\u001b[1;33m\u001b[0m\u001b[0m\n",
      "\u001b[1;32m/software/python_anaconda/2.2.0/lib/python2.7/site-packages/theano/compile/function_module.pyc\u001b[0m in \u001b[0;36m__call__\u001b[1;34m(self, *args, **kwargs)\u001b[0m\n\u001b[0;32m    577\u001b[0m         \u001b[0mt0_fn\u001b[0m \u001b[1;33m=\u001b[0m \u001b[0mtime\u001b[0m\u001b[1;33m.\u001b[0m\u001b[0mtime\u001b[0m\u001b[1;33m(\u001b[0m\u001b[1;33m)\u001b[0m\u001b[1;33m\u001b[0m\u001b[0m\n\u001b[0;32m    578\u001b[0m         \u001b[1;32mtry\u001b[0m\u001b[1;33m:\u001b[0m\u001b[1;33m\u001b[0m\u001b[0m\n\u001b[1;32m--> 579\u001b[1;33m             \u001b[0moutputs\u001b[0m \u001b[1;33m=\u001b[0m \u001b[0mself\u001b[0m\u001b[1;33m.\u001b[0m\u001b[0mfn\u001b[0m\u001b[1;33m(\u001b[0m\u001b[1;33m)\u001b[0m\u001b[1;33m\u001b[0m\u001b[0m\n\u001b[0m\u001b[0;32m    580\u001b[0m         \u001b[1;32mexcept\u001b[0m \u001b[0mException\u001b[0m\u001b[1;33m:\u001b[0m\u001b[1;33m\u001b[0m\u001b[0m\n\u001b[0;32m    581\u001b[0m             \u001b[1;32mif\u001b[0m \u001b[0mhasattr\u001b[0m\u001b[1;33m(\u001b[0m\u001b[0mself\u001b[0m\u001b[1;33m.\u001b[0m\u001b[0mfn\u001b[0m\u001b[1;33m,\u001b[0m \u001b[1;34m'position_of_error'\u001b[0m\u001b[1;33m)\u001b[0m\u001b[1;33m:\u001b[0m\u001b[1;33m\u001b[0m\u001b[0m\n",
      "\u001b[1;31mIndexError\u001b[0m: index 102094 is out of bounds for size 102094\nApply node that caused the error: AdvancedSubtensor1(<TensorType(float64, matrix)>, Flatten{1}.0)\nInputs shapes: [(102094, 256), (3200,)]\nInputs strides: [(2048, 8), (4,)]\nInputs types: [TensorType(float64, matrix), TensorType(int32, vector)]\nUse the Theano flag 'exception_verbosity=high' for a debugprint of this apply node."
     ]
    }
   ],
   "source": [
    "max_features = max(max(map(max, X_train)), max(map(max, X_test)))\n",
    "X_train = keras.preprocessing.sequence.pad_sequences(X_train, maxlen=200, dtype='int32')\n",
    "X_test = keras.preprocessing.sequence.pad_sequences(X_test, maxlen=200, dtype='int32')\n",
    "\n",
    "# model = Sequential()\n",
    "# model.add(Embedding(max_features, 256))\n",
    "# model.add(LSTM(256, 128, activation='sigmoid', inner_activation='hard_sigmoid'))\n",
    "# model.add(Dropout(0.5))\n",
    "# model.add(Dense(128, 1))\n",
    "# model.add(Activation('sigmoid'))\n",
    "\n",
    "# model.compile(loss='binary_crossentropy', optimizer='rmsprop')\n",
    "\n",
    "model.fit(X_train, y_train, batch_size=16, nb_epoch=10)\n",
    "score = model.evaluate(X_test, y_test, batch_size=16)"
   ]
  },
  {
   "cell_type": "code",
   "execution_count": null,
   "metadata": {
    "collapsed": true
   },
   "outputs": [],
   "source": []
  }
 ],
 "metadata": {
  "kernelspec": {
   "display_name": "Python 2",
   "language": "python",
   "name": "python2"
  },
  "language_info": {
   "codemirror_mode": {
    "name": "ipython",
    "version": 2
   },
   "file_extension": ".py",
   "mimetype": "text/x-python",
   "name": "python",
   "nbconvert_exporter": "python",
   "pygments_lexer": "ipython2",
   "version": "2.7.9"
  }
 },
 "nbformat": 4,
 "nbformat_minor": 0
}
