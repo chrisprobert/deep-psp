{
 "cells": [
  {
   "cell_type": "markdown",
   "metadata": {},
   "source": [
    "#Using RNNs to Label Sequences\n",
    "\n",
    "We use RNN models to label secondary structure annotations. "
   ]
  },
  {
   "cell_type": "code",
   "execution_count": 63,
   "metadata": {
    "collapsed": false
   },
   "outputs": [],
   "source": [
    "#\n",
    "# Imports for data loading and classification\n",
    "#\n",
    "\n",
    "import keras\n",
    "from keras.models import Sequential\n",
    "from keras.layers.core import Dense, Dropout, Activation\n",
    "from keras.layers.embeddings import Embedding\n",
    "from keras.layers.recurrent import LSTM, SimpleDeepRNN\n",
    "keras.layers.recurrent.SimpleDeepRNN\n",
    "import keras.preprocessing.sequence\n",
    "from keras.optimizers import SGD\n",
    "\n",
    "from sklearn.cross_validation import train_test_split\n",
    "\n",
    "import matplotlib.pyplot as plt\n",
    "import numpy as np\n",
    "import pandas as ps\n",
    "import sys\n",
    "\n",
    "\n",
    "#\n",
    "# Setup matplotlib and ipython\n",
    "#\n",
    "%matplotlib inline\n",
    "\n",
    "# random seed\n",
    "R_SEED = 42"
   ]
  },
  {
   "cell_type": "markdown",
   "metadata": {},
   "source": [
    "##Load input data"
   ]
  },
  {
   "cell_type": "code",
   "execution_count": 85,
   "metadata": {
    "collapsed": true
   },
   "outputs": [],
   "source": [
    "#\n",
    "# The character mapping to encode amino acid sequences.\n",
    "# Non-AA chars should be mapped to X, or 0.\n",
    "#\n",
    "\n",
    "AAs = ['X','I','L','V','F','M','C','A','G','P','T','S','Y','W','Q','N','H','E','D','K','R']\n",
    "AAIndexes = {AAs[i] : i for i in range(len(AAs))}\n",
    "\n",
    "def encodeAA(x) :\n",
    "    # Encode an amino acid sequence\n",
    "    if x not in AAIndexes :\n",
    "        return 0\n",
    "    return AAIndexes[x]\n",
    "\n",
    "def seqToIdxs(seq) :\n",
    "    return map(encodeAA, seq.strip().upper())\n",
    "\n",
    "#\n",
    "#  Functions for loading sequences and background distributions\n",
    "#\n",
    "\n",
    "def loadSeqs(seqs_file, num_lines=sys.maxint) :\n",
    "    seqs = []\n",
    "    with open(seqs_file) as in_f :\n",
    "        for line in in_f :\n",
    "            seqs.append(seqToIdxs(line))\n",
    "            if len(seqs) >= num_lines : break\n",
    "    return seqs\n",
    "\n",
    "def loadFeatureSeqs(task_name, num_lines=sys.maxint) :\n",
    "    path = '/home/gene245/cprobert/seq_features/%s_seqs.txt' % task_name\n",
    "    return loadSeqs(path, num_lines)\n",
    "\n",
    "def loadFeatureBkgrdSeqs(task_name, num_lines=sys.maxint) :\n",
    "    path = '/home/gene245/cprobert/seq_features/%s_featurebackground_seqs.txt' % task_name\n",
    "    return loadSeqs(path, num_lines)\n",
    "\n",
    "def loadGlobalBkgrdSeqs(task_name, num_lines=sys.maxint) :\n",
    "    path = '/home/gene245/cprobert/seq_features/%s_globalbackground_seqs.txt' % task_name\n",
    "    return loadSeqs(path, num_lines)\n",
    "\n",
    "def createLabelVector(length, label) :\n",
    "    ones = np.ones(length).reshape(length,1)\n",
    "    zeros = np.zeros(length).reshape(length,1)\n",
    "    if label == 1 :\n",
    "        return np.append(zeros,ones,axis=1)\n",
    "    return np.append(ones,zeros,axis=1)\n"
   ]
  },
  {
   "cell_type": "code",
   "execution_count": 87,
   "metadata": {
    "collapsed": false
   },
   "outputs": [
    {
     "name": "stdout",
     "output_type": "stream",
     "text": [
      "[5, 8, 8, 8, 18, 12, 13, 9, 1, 1]\n",
      "[15, 3, 15, 3, 11, 10, 17, 2, 18, 11]\n",
      "[2, 11, 1, 14, 12, 3, 9, 17, 10, 15]\n",
      "[[ 0.  1.]\n",
      " [ 0.  1.]\n",
      " [ 0.  1.]]\n",
      "[[ 1.  0.]\n",
      " [ 1.  0.]\n",
      " [ 1.  0.]]\n"
     ]
    }
   ],
   "source": [
    "# Try loading some data\n",
    "print(loadFeatureSeqs('transmembrane-region',1)[0][:10])\n",
    "print(loadFeatureBkgrdSeqs('transmembrane-region',1)[0][:10])\n",
    "print(loadGlobalBkgrdSeqs('transmembrane-region',1)[0][:10])\n",
    "print(createLabelVector(3,1))\n",
    "print(createLabelVector(3,-1))"
   ]
  },
  {
   "cell_type": "code",
   "execution_count": 88,
   "metadata": {
    "collapsed": false
   },
   "outputs": [],
   "source": [
    "# Try loading data and converting to keras types\n",
    "\n",
    "seqs = loadFeatureSeqs('transmembrane-region',1)\n",
    "proc_seqs = keras.preprocessing.sequence.pad_sequences(seqs, maxlen=10)"
   ]
  },
  {
   "cell_type": "markdown",
   "metadata": {},
   "source": [
    "##Declare the model"
   ]
  },
  {
   "cell_type": "code",
   "execution_count": 89,
   "metadata": {
    "collapsed": false
   },
   "outputs": [],
   "source": [
    "def getsimpleLSTM(input_dim) :\n",
    "    model = keras.models.Sequential()\n",
    "    model.add(Embedding(input_dim, 256))\n",
    "    model.add(LSTM(256, 128, activation='sigmoid', inner_activation='hard_sigmoid'))\n",
    "    model.add(Dropout(0.5))\n",
    "    model.add(Dense(128, 1, init='uniform'))\n",
    "    model.add(Activation('softmax'))\n",
    "    return model\n",
    "\n",
    "def getsimpleRNN(input_dim) :\n",
    "    model = keras.models.Sequential()\n",
    "    model.add(Embedding(input_dim, 256))\n",
    "    model.add(SimpleDeepRNN(256, 2, truncate_gradient=3, return_sequences=False))\n",
    "    return model\n"
   ]
  },
  {
   "cell_type": "markdown",
   "metadata": {},
   "source": [
    "##Try things out!"
   ]
  },
  {
   "cell_type": "code",
   "execution_count": 98,
   "metadata": {
    "collapsed": false
   },
   "outputs": [
    {
     "name": "stdout",
     "output_type": "stream",
     "text": [
      "(1000, 160)\n",
      "(1, 100)\n",
      "(100, 2)\n"
     ]
    }
   ],
   "source": [
    "seqs_pos = loadFeatureSeqs('transmembrane-region',1000)\n",
    "proc_seqs_pos = keras.preprocessing.sequence.pad_sequences(seqs, maxlen=100)\n",
    "labels_pos = createLabelVector(proc_seqs_pos.shape[1], 1)\n",
    "\n",
    "seqs_neg = loadGlobalBkgrdSeqs('transmembrane-region',1000)\n",
    "proc_seqs_neg = keras.preprocessing.sequence.pad_sequences(seqs, maxlen=100)\n",
    "labels_neg = createLabelVector(proc_seqs_neg.shape[1], -1)\n",
    "print(len(seqs_neg),len(seqs_neg[0]))\n",
    "print(proc_seqs_neg.shape)\n",
    "print labels_neg.shape\n",
    "proc_seqs = np.append(proc_seqs_pos, proc_seqs_neg, axis=0)\n",
    "labels = np.append(labels_pos, labels_neg)\n",
    "\n",
    "input_dim = len(AAs)\n",
    "\n",
    "#model = getsimpleRNN(input_dim)\n",
    "#sgd = SGD(lr=0.1, decay=1e-6, momentum=0.9, nesterov=True)\n",
    "#model.compile(loss='categorical_crossentropy', optimizer=sgd)"
   ]
  },
  {
   "cell_type": "code",
   "execution_count": 94,
   "metadata": {
    "collapsed": false
   },
   "outputs": [
    {
     "name": "stdout",
     "output_type": "stream",
     "text": [
      "(2, 100)\n",
      "(400,)\n"
     ]
    },
    {
     "ename": "ValueError",
     "evalue": "Found array with dim 400. Expected 2",
     "output_type": "error",
     "traceback": [
      "\u001b[1;31m---------------------------------------------------------------------------\u001b[0m",
      "\u001b[1;31mValueError\u001b[0m                                Traceback (most recent call last)",
      "\u001b[1;32m<ipython-input-94-dd66aaf88cfb>\u001b[0m in \u001b[0;36m<module>\u001b[1;34m()\u001b[0m\n\u001b[0;32m      2\u001b[0m \u001b[1;32mprint\u001b[0m \u001b[0mproc_seqs\u001b[0m\u001b[1;33m.\u001b[0m\u001b[0mshape\u001b[0m\u001b[1;33m\u001b[0m\u001b[0m\n\u001b[0;32m      3\u001b[0m \u001b[1;32mprint\u001b[0m \u001b[0mlabels\u001b[0m\u001b[1;33m.\u001b[0m\u001b[0mshape\u001b[0m\u001b[1;33m\u001b[0m\u001b[0m\n\u001b[1;32m----> 4\u001b[1;33m \u001b[0mX_train\u001b[0m\u001b[1;33m,\u001b[0m \u001b[0mX_test\u001b[0m\u001b[1;33m,\u001b[0m \u001b[0my_train\u001b[0m\u001b[1;33m,\u001b[0m \u001b[0my_test\u001b[0m \u001b[1;33m=\u001b[0m \u001b[0mtrain_test_split\u001b[0m\u001b[1;33m(\u001b[0m\u001b[0mproc_seqs\u001b[0m\u001b[1;33m,\u001b[0m \u001b[0mlabels\u001b[0m\u001b[1;33m,\u001b[0m \u001b[0mtest_size\u001b[0m\u001b[1;33m=\u001b[0m\u001b[1;36m0.1\u001b[0m\u001b[1;33m,\u001b[0m \u001b[0mrandom_state\u001b[0m\u001b[1;33m=\u001b[0m\u001b[0mR_SEED\u001b[0m\u001b[1;33m)\u001b[0m\u001b[1;33m\u001b[0m\u001b[0m\n\u001b[0m\u001b[0;32m      5\u001b[0m \u001b[1;32mprint\u001b[0m \u001b[0mX_train\u001b[0m\u001b[1;33m.\u001b[0m\u001b[0mshape\u001b[0m\u001b[1;33m\u001b[0m\u001b[0m\n\u001b[0;32m      6\u001b[0m \u001b[0mmodel\u001b[0m\u001b[1;33m.\u001b[0m\u001b[0mfit\u001b[0m\u001b[1;33m(\u001b[0m\u001b[0mX_train\u001b[0m\u001b[1;33m,\u001b[0m \u001b[0my_train\u001b[0m\u001b[1;33m,\u001b[0m \u001b[0mnb_epoch\u001b[0m\u001b[1;33m=\u001b[0m\u001b[1;36m10\u001b[0m\u001b[1;33m,\u001b[0m \u001b[0mbatch_size\u001b[0m\u001b[1;33m=\u001b[0m\u001b[1;36m5\u001b[0m\u001b[1;33m)\u001b[0m\u001b[1;33m\u001b[0m\u001b[0m\n",
      "\u001b[1;32m/software/python_anaconda/2.2.0/lib/python2.7/site-packages/sklearn/cross_validation.pyc\u001b[0m in \u001b[0;36mtrain_test_split\u001b[1;34m(*arrays, **options)\u001b[0m\n\u001b[0;32m   1554\u001b[0m         \u001b[0mtest_size\u001b[0m \u001b[1;33m=\u001b[0m \u001b[1;36m0.25\u001b[0m\u001b[1;33m\u001b[0m\u001b[0m\n\u001b[0;32m   1555\u001b[0m \u001b[1;33m\u001b[0m\u001b[0m\n\u001b[1;32m-> 1556\u001b[1;33m     \u001b[0marrays\u001b[0m \u001b[1;33m=\u001b[0m \u001b[0mcheck_arrays\u001b[0m\u001b[1;33m(\u001b[0m\u001b[1;33m*\u001b[0m\u001b[0marrays\u001b[0m\u001b[1;33m,\u001b[0m \u001b[1;33m**\u001b[0m\u001b[0moptions\u001b[0m\u001b[1;33m)\u001b[0m\u001b[1;33m\u001b[0m\u001b[0m\n\u001b[0m\u001b[0;32m   1557\u001b[0m     \u001b[0mn_samples\u001b[0m \u001b[1;33m=\u001b[0m \u001b[0m_num_samples\u001b[0m\u001b[1;33m(\u001b[0m\u001b[0marrays\u001b[0m\u001b[1;33m[\u001b[0m\u001b[1;36m0\u001b[0m\u001b[1;33m]\u001b[0m\u001b[1;33m)\u001b[0m\u001b[1;33m\u001b[0m\u001b[0m\n\u001b[0;32m   1558\u001b[0m     cv = ShuffleSplit(n_samples, test_size=test_size,\n",
      "\u001b[1;32m/software/python_anaconda/2.2.0/lib/python2.7/site-packages/sklearn/utils/validation.pyc\u001b[0m in \u001b[0;36mcheck_arrays\u001b[1;34m(*arrays, **options)\u001b[0m\n\u001b[0;32m    252\u001b[0m         \u001b[1;32mif\u001b[0m \u001b[0msize\u001b[0m \u001b[1;33m!=\u001b[0m \u001b[0mn_samples\u001b[0m\u001b[1;33m:\u001b[0m\u001b[1;33m\u001b[0m\u001b[0m\n\u001b[0;32m    253\u001b[0m             raise ValueError(\"Found array with dim %d. Expected %d\"\n\u001b[1;32m--> 254\u001b[1;33m                              % (size, n_samples))\n\u001b[0m\u001b[0;32m    255\u001b[0m \u001b[1;33m\u001b[0m\u001b[0m\n\u001b[0;32m    256\u001b[0m         \u001b[1;32mif\u001b[0m \u001b[1;32mnot\u001b[0m \u001b[0mallow_lists\u001b[0m \u001b[1;32mor\u001b[0m \u001b[0mhasattr\u001b[0m\u001b[1;33m(\u001b[0m\u001b[0marray\u001b[0m\u001b[1;33m,\u001b[0m \u001b[1;34m\"shape\"\u001b[0m\u001b[1;33m)\u001b[0m\u001b[1;33m:\u001b[0m\u001b[1;33m\u001b[0m\u001b[0m\n",
      "\u001b[1;31mValueError\u001b[0m: Found array with dim 400. Expected 2"
     ]
    }
   ],
   "source": [
    "# split the training and testing data\n",
    "print proc_seqs.shape\n",
    "print labels.shape\n",
    "X_train, X_test, y_train, y_test = train_test_split(proc_seqs, labels, test_size=0.1, random_state=R_SEED)\n",
    "print X_train.shape\n",
    "model.fit(X_train, y_train, nb_epoch=10, batch_size=5)"
   ]
  },
  {
   "cell_type": "code",
   "execution_count": null,
   "metadata": {
    "collapsed": true
   },
   "outputs": [],
   "source": []
  }
 ],
 "metadata": {
  "kernelspec": {
   "display_name": "Python 2",
   "language": "python",
   "name": "python2"
  },
  "language_info": {
   "codemirror_mode": {
    "name": "ipython",
    "version": 2
   },
   "file_extension": ".py",
   "mimetype": "text/x-python",
   "name": "python",
   "nbconvert_exporter": "python",
   "pygments_lexer": "ipython2",
   "version": "2.7.9"
  }
 },
 "nbformat": 4,
 "nbformat_minor": 0
}
